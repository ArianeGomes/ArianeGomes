{
  "nbformat": 4,
  "nbformat_minor": 0,
  "metadata": {
    "colab": {
      "provenance": [],
      "include_colab_link": true
    },
    "kernelspec": {
      "name": "ir",
      "display_name": "R"
    }
  },
  "cells": [
    {
      "cell_type": "markdown",
      "metadata": {
        "id": "view-in-github",
        "colab_type": "text"
      },
      "source": [
        "<a href=\"https://colab.research.google.com/github/ArianeGomes/ArianeGomes/blob/main/TerrabrasilisAnalyticsAPI.ipynb\" target=\"_parent\"><img src=\"https://colab.research.google.com/assets/colab-badge.svg\" alt=\"Open In Colab\"/></a>"
      ]
    },
    {
      "cell_type": "code",
      "metadata": {
        "id": "rCEtur7fajGn",
        "colab": {
          "base_uri": "https://localhost:8080/"
        },
        "outputId": "c75f68a1-9922-4673-a198-d07460ac2a22"
      },
      "source": [
        "cat(system('python3 -c \"from google.colab import drive\\ndrive.mount()\"', intern=TRUE), sep='\\n', wait=TRUE)"
      ],
      "execution_count": null,
      "outputs": [
        {
          "output_type": "stream",
          "name": "stderr",
          "text": [
            "Warning message in system(\"python3 -c \\\"from google.colab import drive\\ndrive.mount()\\\"\", :\n",
            "“running command 'python3 -c \"from google.colab import drive\n",
            "drive.mount()\"' had status 1”\n"
          ]
        },
        {
          "output_type": "stream",
          "name": "stdout",
          "text": [
            "\n",
            "TRUE\n"
          ]
        }
      ]
    },
    {
      "cell_type": "code",
      "metadata": {
        "id": "T6aH0TahbghZ"
      },
      "source": [
        "?system"
      ],
      "execution_count": null,
      "outputs": []
    },
    {
      "cell_type": "markdown",
      "source": [],
      "metadata": {
        "id": "ELcZRq7R-Alh"
      }
    },
    {
      "cell_type": "code",
      "metadata": {
        "id": "1IzjHJFxv01f",
        "colab": {
          "base_uri": "https://localhost:8080/"
        },
        "outputId": "a00e7b6e-9d80-4252-de9b-eb8da01b7e9c"
      },
      "source": [
        "install.packages(\"devtools\")"
      ],
      "execution_count": null,
      "outputs": [
        {
          "output_type": "stream",
          "name": "stderr",
          "text": [
            "Installing package into ‘/usr/local/lib/R/site-library’\n",
            "(as ‘lib’ is unspecified)\n",
            "\n",
            "also installing the dependencies ‘Rcpp’, ‘httpuv’, ‘xtable’, ‘sourcetools’, ‘later’, ‘promises’, ‘shiny’, ‘downlit’, ‘htmlwidgets’, ‘miniUI’, ‘pkgdown’, ‘profvis’, ‘urlchecker’\n",
            "\n",
            "\n"
          ]
        }
      ]
    },
    {
      "cell_type": "code",
      "metadata": {
        "id": "sdyV67dk2vGx",
        "colab": {
          "base_uri": "https://localhost:8080/"
        },
        "outputId": "217b5d2f-2f5b-4466-fa1d-2b8b10890306"
      },
      "source": [
        "devtools::install_github(\"terrabrasilis/terrabrasilisAnalyticsAPI\")\n",
        "library(terrabrasilisAnalyticsAPI)"
      ],
      "execution_count": null,
      "outputs": [
        {
          "output_type": "stream",
          "name": "stderr",
          "text": [
            "Skipping install of 'terrabrasilisAnalyticsAPI' from a github remote, the SHA1 (8cb7d816) has not changed since last install.\n",
            "  Use `force = TRUE` to force installation\n",
            "\n"
          ]
        }
      ]
    },
    {
      "cell_type": "code",
      "metadata": {
        "id": "IS3VN3qamf20"
      },
      "source": [
        "apiPath <- \"http://terrabrasilis.dpi.inpe.br/dashboard/api/v1/redis-cli/\""
      ],
      "execution_count": null,
      "outputs": []
    },
    {
      "cell_type": "code",
      "source": [
        "appIdentifier <- list_datasets(apiPath)\n",
        "appIdentifier"
      ],
      "metadata": {
        "colab": {
          "base_uri": "https://localhost:8080/",
          "height": 34
        },
        "id": "3zFz-DHprSnV",
        "outputId": "5e6e8cc7-85f5-4f70-c2a4-fed0edf66680"
      },
      "execution_count": null,
      "outputs": [
        {
          "output_type": "display_data",
          "data": {
            "text/html": [
              "<style>\n",
              ".list-inline {list-style: none; margin:0; padding: 0}\n",
              ".list-inline>li {display: inline-block}\n",
              ".list-inline>li:not(:last-child)::after {content: \"\\00b7\"; padding: 0 .5ex}\n",
              "</style>\n",
              "<ol class=list-inline><li>'prodes_cerrado'</li><li>'prodes_amazon'</li><li>'prodes_legal_amazon'</li><li>'prodes_pampa'</li><li>'prodes_pantanal'</li><li>'prodes_caatinga'</li><li>'prodes_mata_atlantica'</li><li>'prodes_amazon_nf'</li></ol>\n"
            ],
            "text/markdown": "1. 'prodes_cerrado'\n2. 'prodes_amazon'\n3. 'prodes_legal_amazon'\n4. 'prodes_pampa'\n5. 'prodes_pantanal'\n6. 'prodes_caatinga'\n7. 'prodes_mata_atlantica'\n8. 'prodes_amazon_nf'\n\n\n",
            "text/latex": "\\begin{enumerate*}\n\\item 'prodes\\_cerrado'\n\\item 'prodes\\_amazon'\n\\item 'prodes\\_legal\\_amazon'\n\\item 'prodes\\_pampa'\n\\item 'prodes\\_pantanal'\n\\item 'prodes\\_caatinga'\n\\item 'prodes\\_mata\\_atlantica'\n\\item 'prodes\\_amazon\\_nf'\n\\end{enumerate*}\n",
            "text/plain": [
              "[1] \"prodes_cerrado\"        \"prodes_amazon\"         \"prodes_legal_amazon\"  \n",
              "[4] \"prodes_pampa\"          \"prodes_pantanal\"       \"prodes_caatinga\"      \n",
              "[7] \"prodes_mata_atlantica\" \"prodes_amazon_nf\"     "
            ]
          },
          "metadata": {}
        }
      ]
    },
    {
      "cell_type": "code",
      "source": [
        "prodesCerrado <- appIdentifier[1]\n",
        "prodesCerrado"
      ],
      "metadata": {
        "colab": {
          "base_uri": "https://localhost:8080/",
          "height": 34
        },
        "id": "vfMPUrhUre1d",
        "outputId": "04096fd9-6f3b-489d-f93b-494f5e145c36"
      },
      "execution_count": null,
      "outputs": [
        {
          "output_type": "display_data",
          "data": {
            "text/html": [
              "'prodes_cerrado'"
            ],
            "text/markdown": "'prodes_cerrado'",
            "text/latex": "'prodes\\_cerrado'",
            "text/plain": [
              "[1] \"prodes_cerrado\""
            ]
          },
          "metadata": {}
        }
      ]
    },
    {
      "cell_type": "code",
      "source": [
        "periods <- list_periods(apiPath, prodesCerrado)\n",
        "periods"
      ],
      "metadata": {
        "colab": {
          "base_uri": "https://localhost:8080/",
          "height": 631
        },
        "id": "xVGHbVMSrjBf",
        "outputId": "8241d09f-51ba-467f-8c9f-28441d158d9a"
      },
      "execution_count": null,
      "outputs": [
        {
          "output_type": "display_data",
          "data": {
            "text/html": [
              "<table class=\"dataframe\">\n",
              "<caption>A tibble: 17 × 6</caption>\n",
              "<thead>\n",
              "\t<tr><th scope=col>startDate.year</th><th scope=col>startDate.month</th><th scope=col>startDate.day</th><th scope=col>endDate.year</th><th scope=col>endDate.month</th><th scope=col>endDate.day</th></tr>\n",
              "\t<tr><th scope=col>&lt;int&gt;</th><th scope=col>&lt;int&gt;</th><th scope=col>&lt;int&gt;</th><th scope=col>&lt;int&gt;</th><th scope=col>&lt;int&gt;</th><th scope=col>&lt;int&gt;</th></tr>\n",
              "</thead>\n",
              "<tbody>\n",
              "\t<tr><td>1500</td><td>8</td><td>10</td><td>2000</td><td>7</td><td>31</td></tr>\n",
              "\t<tr><td>2000</td><td>8</td><td> 1</td><td>2002</td><td>7</td><td>31</td></tr>\n",
              "\t<tr><td>2002</td><td>8</td><td> 1</td><td>2004</td><td>7</td><td>31</td></tr>\n",
              "\t<tr><td>2004</td><td>8</td><td> 1</td><td>2006</td><td>7</td><td>31</td></tr>\n",
              "\t<tr><td>2006</td><td>8</td><td> 1</td><td>2008</td><td>7</td><td>31</td></tr>\n",
              "\t<tr><td>2008</td><td>8</td><td> 1</td><td>2010</td><td>7</td><td>31</td></tr>\n",
              "\t<tr><td>2010</td><td>8</td><td> 1</td><td>2012</td><td>7</td><td>31</td></tr>\n",
              "\t<tr><td>2012</td><td>8</td><td> 1</td><td>2013</td><td>7</td><td>31</td></tr>\n",
              "\t<tr><td>2013</td><td>8</td><td> 1</td><td>2014</td><td>7</td><td>31</td></tr>\n",
              "\t<tr><td>2014</td><td>8</td><td> 1</td><td>2015</td><td>7</td><td>31</td></tr>\n",
              "\t<tr><td>2015</td><td>8</td><td> 1</td><td>2016</td><td>7</td><td>31</td></tr>\n",
              "\t<tr><td>2016</td><td>8</td><td> 1</td><td>2017</td><td>7</td><td>31</td></tr>\n",
              "\t<tr><td>2017</td><td>8</td><td> 1</td><td>2018</td><td>7</td><td>31</td></tr>\n",
              "\t<tr><td>2018</td><td>8</td><td> 1</td><td>2019</td><td>7</td><td>31</td></tr>\n",
              "\t<tr><td>2019</td><td>8</td><td> 1</td><td>2020</td><td>7</td><td>31</td></tr>\n",
              "\t<tr><td>2020</td><td>8</td><td> 1</td><td>2021</td><td>7</td><td>31</td></tr>\n",
              "\t<tr><td>2021</td><td>8</td><td> 1</td><td>2022</td><td>7</td><td>31</td></tr>\n",
              "</tbody>\n",
              "</table>\n"
            ],
            "text/markdown": "\nA tibble: 17 × 6\n\n| startDate.year &lt;int&gt; | startDate.month &lt;int&gt; | startDate.day &lt;int&gt; | endDate.year &lt;int&gt; | endDate.month &lt;int&gt; | endDate.day &lt;int&gt; |\n|---|---|---|---|---|---|\n| 1500 | 8 | 10 | 2000 | 7 | 31 |\n| 2000 | 8 |  1 | 2002 | 7 | 31 |\n| 2002 | 8 |  1 | 2004 | 7 | 31 |\n| 2004 | 8 |  1 | 2006 | 7 | 31 |\n| 2006 | 8 |  1 | 2008 | 7 | 31 |\n| 2008 | 8 |  1 | 2010 | 7 | 31 |\n| 2010 | 8 |  1 | 2012 | 7 | 31 |\n| 2012 | 8 |  1 | 2013 | 7 | 31 |\n| 2013 | 8 |  1 | 2014 | 7 | 31 |\n| 2014 | 8 |  1 | 2015 | 7 | 31 |\n| 2015 | 8 |  1 | 2016 | 7 | 31 |\n| 2016 | 8 |  1 | 2017 | 7 | 31 |\n| 2017 | 8 |  1 | 2018 | 7 | 31 |\n| 2018 | 8 |  1 | 2019 | 7 | 31 |\n| 2019 | 8 |  1 | 2020 | 7 | 31 |\n| 2020 | 8 |  1 | 2021 | 7 | 31 |\n| 2021 | 8 |  1 | 2022 | 7 | 31 |\n\n",
            "text/latex": "A tibble: 17 × 6\n\\begin{tabular}{llllll}\n startDate.year & startDate.month & startDate.day & endDate.year & endDate.month & endDate.day\\\\\n <int> & <int> & <int> & <int> & <int> & <int>\\\\\n\\hline\n\t 1500 & 8 & 10 & 2000 & 7 & 31\\\\\n\t 2000 & 8 &  1 & 2002 & 7 & 31\\\\\n\t 2002 & 8 &  1 & 2004 & 7 & 31\\\\\n\t 2004 & 8 &  1 & 2006 & 7 & 31\\\\\n\t 2006 & 8 &  1 & 2008 & 7 & 31\\\\\n\t 2008 & 8 &  1 & 2010 & 7 & 31\\\\\n\t 2010 & 8 &  1 & 2012 & 7 & 31\\\\\n\t 2012 & 8 &  1 & 2013 & 7 & 31\\\\\n\t 2013 & 8 &  1 & 2014 & 7 & 31\\\\\n\t 2014 & 8 &  1 & 2015 & 7 & 31\\\\\n\t 2015 & 8 &  1 & 2016 & 7 & 31\\\\\n\t 2016 & 8 &  1 & 2017 & 7 & 31\\\\\n\t 2017 & 8 &  1 & 2018 & 7 & 31\\\\\n\t 2018 & 8 &  1 & 2019 & 7 & 31\\\\\n\t 2019 & 8 &  1 & 2020 & 7 & 31\\\\\n\t 2020 & 8 &  1 & 2021 & 7 & 31\\\\\n\t 2021 & 8 &  1 & 2022 & 7 & 31\\\\\n\\end{tabular}\n",
            "text/plain": [
              "   startDate.year startDate.month startDate.day endDate.year endDate.month\n",
              "1  1500           8               10            2000         7            \n",
              "2  2000           8                1            2002         7            \n",
              "3  2002           8                1            2004         7            \n",
              "4  2004           8                1            2006         7            \n",
              "5  2006           8                1            2008         7            \n",
              "6  2008           8                1            2010         7            \n",
              "7  2010           8                1            2012         7            \n",
              "8  2012           8                1            2013         7            \n",
              "9  2013           8                1            2014         7            \n",
              "10 2014           8                1            2015         7            \n",
              "11 2015           8                1            2016         7            \n",
              "12 2016           8                1            2017         7            \n",
              "13 2017           8                1            2018         7            \n",
              "14 2018           8                1            2019         7            \n",
              "15 2019           8                1            2020         7            \n",
              "16 2020           8                1            2021         7            \n",
              "17 2021           8                1            2022         7            \n",
              "   endDate.day\n",
              "1  31         \n",
              "2  31         \n",
              "3  31         \n",
              "4  31         \n",
              "5  31         \n",
              "6  31         \n",
              "7  31         \n",
              "8  31         \n",
              "9  31         \n",
              "10 31         \n",
              "11 31         \n",
              "12 31         \n",
              "13 31         \n",
              "14 31         \n",
              "15 31         \n",
              "16 31         \n",
              "17 31         "
            ]
          },
          "metadata": {}
        }
      ]
    },
    {
      "cell_type": "code",
      "source": [
        "classes <- list_classes(apiPath, prodesCerrado)\n",
        "classes"
      ],
      "metadata": {
        "colab": {
          "base_uri": "https://localhost:8080/",
          "height": 129
        },
        "id": "E2Jz1nwNro2l",
        "outputId": "c9b8513d-35d2-4c08-f739-4ffa31624b4c"
      },
      "execution_count": null,
      "outputs": [
        {
          "output_type": "display_data",
          "data": {
            "text/html": [
              "<table class=\"dataframe\">\n",
              "<caption>A tibble: 1 × 3</caption>\n",
              "<thead>\n",
              "\t<tr><th scope=col>id</th><th scope=col>name</th><th scope=col>description</th></tr>\n",
              "\t<tr><th scope=col>&lt;int&gt;</th><th scope=col>&lt;chr&gt;</th><th scope=col>&lt;chr&gt;</th></tr>\n",
              "</thead>\n",
              "<tbody>\n",
              "\t<tr><td>1</td><td>deforestation</td><td>It is the process of complete and permanent disappearance of forests</td></tr>\n",
              "</tbody>\n",
              "</table>\n"
            ],
            "text/markdown": "\nA tibble: 1 × 3\n\n| id &lt;int&gt; | name &lt;chr&gt; | description &lt;chr&gt; |\n|---|---|---|\n| 1 | deforestation | It is the process of complete and permanent disappearance of forests |\n\n",
            "text/latex": "A tibble: 1 × 3\n\\begin{tabular}{lll}\n id & name & description\\\\\n <int> & <chr> & <chr>\\\\\n\\hline\n\t 1 & deforestation & It is the process of complete and permanent disappearance of forests\\\\\n\\end{tabular}\n",
            "text/plain": [
              "  id name         \n",
              "1 1  deforestation\n",
              "  description                                                         \n",
              "1 It is the process of complete and permanent disappearance of forests"
            ]
          },
          "metadata": {}
        }
      ]
    },
    {
      "cell_type": "code",
      "source": [
        "locals <- list_locals(apiPath, prodesCerrado)\n",
        "locals"
      ],
      "metadata": {
        "colab": {
          "base_uri": "https://localhost:8080/",
          "height": 224
        },
        "id": "E63RuF-ArtXw",
        "outputId": "c12374e0-16c7-4092-94cd-d4337c2846f2"
      },
      "execution_count": null,
      "outputs": [
        {
          "output_type": "display_data",
          "data": {
            "text/html": [
              "<table class=\"dataframe\">\n",
              "<caption>A tibble: 4 × 2</caption>\n",
              "<thead>\n",
              "\t<tr><th scope=col>gid</th><th scope=col>name</th></tr>\n",
              "\t<tr><th scope=col>&lt;int&gt;</th><th scope=col>&lt;chr&gt;</th></tr>\n",
              "</thead>\n",
              "<tbody>\n",
              "\t<tr><td>1</td><td>uf      </td></tr>\n",
              "\t<tr><td>2</td><td>mun     </td></tr>\n",
              "\t<tr><td>3</td><td>consunit</td></tr>\n",
              "\t<tr><td>4</td><td>indi    </td></tr>\n",
              "</tbody>\n",
              "</table>\n"
            ],
            "text/markdown": "\nA tibble: 4 × 2\n\n| gid &lt;int&gt; | name &lt;chr&gt; |\n|---|---|\n| 1 | uf       |\n| 2 | mun      |\n| 3 | consunit |\n| 4 | indi     |\n\n",
            "text/latex": "A tibble: 4 × 2\n\\begin{tabular}{ll}\n gid & name\\\\\n <int> & <chr>\\\\\n\\hline\n\t 1 & uf      \\\\\n\t 2 & mun     \\\\\n\t 3 & consunit\\\\\n\t 4 & indi    \\\\\n\\end{tabular}\n",
            "text/plain": [
              "  gid name    \n",
              "1 1   uf      \n",
              "2 2   mun     \n",
              "3 3   consunit\n",
              "4 4   indi    "
            ]
          },
          "metadata": {}
        }
      ]
    },
    {
      "cell_type": "code",
      "source": [
        "localOfInterest <- list_local_of_interests(apiPath, prodesCerrado)\n",
        "localOfInterest[402:412,]"
      ],
      "metadata": {
        "colab": {
          "base_uri": "https://localhost:8080/",
          "height": 443
        },
        "id": "hqy2YqH3rxIw",
        "outputId": "7cbef13b-22a5-4ef8-8990-394f141ec1ee"
      },
      "execution_count": null,
      "outputs": [
        {
          "output_type": "display_data",
          "data": {
            "text/html": [
              "<table class=\"dataframe\">\n",
              "<caption>A tibble: 11 × 4</caption>\n",
              "<thead>\n",
              "\t<tr><th scope=col>gid</th><th scope=col>loiname</th><th scope=col>codibge</th><th scope=col>loi</th></tr>\n",
              "\t<tr><th scope=col>&lt;int&gt;</th><th scope=col>&lt;chr&gt;</th><th scope=col>&lt;int&gt;</th><th scope=col>&lt;dbl&gt;</th></tr>\n",
              "</thead>\n",
              "<tbody>\n",
              "\t<tr><td>4152</td><td>Arroio-Korá            </td><td>NA</td><td>4</td></tr>\n",
              "\t<tr><td>4153</td><td>Estivadinho            </td><td>NA</td><td>4</td></tr>\n",
              "\t<tr><td>4154</td><td>Nossa Senhora de Fátima</td><td>NA</td><td>4</td></tr>\n",
              "\t<tr><td>4155</td><td>Kanela                 </td><td>NA</td><td>4</td></tr>\n",
              "\t<tr><td>4156</td><td>Utiariti               </td><td>NA</td><td>4</td></tr>\n",
              "\t<tr><td>4157</td><td>Taunay/Ipegue          </td><td>NA</td><td>4</td></tr>\n",
              "\t<tr><td>4158</td><td>Xacriabá               </td><td>NA</td><td>4</td></tr>\n",
              "\t<tr><td>4159</td><td>Morro Branco           </td><td>NA</td><td>4</td></tr>\n",
              "\t<tr><td>4160</td><td>Marechal Rondon        </td><td>NA</td><td>4</td></tr>\n",
              "\t<tr><td>4161</td><td>Umutina                </td><td>NA</td><td>4</td></tr>\n",
              "\t<tr><td>4162</td><td>Cana Brava/Guajajara   </td><td>NA</td><td>4</td></tr>\n",
              "</tbody>\n",
              "</table>\n"
            ],
            "text/markdown": "\nA tibble: 11 × 4\n\n| gid &lt;int&gt; | loiname &lt;chr&gt; | codibge &lt;int&gt; | loi &lt;dbl&gt; |\n|---|---|---|---|\n| 4152 | Arroio-Korá             | NA | 4 |\n| 4153 | Estivadinho             | NA | 4 |\n| 4154 | Nossa Senhora de Fátima | NA | 4 |\n| 4155 | Kanela                  | NA | 4 |\n| 4156 | Utiariti                | NA | 4 |\n| 4157 | Taunay/Ipegue           | NA | 4 |\n| 4158 | Xacriabá                | NA | 4 |\n| 4159 | Morro Branco            | NA | 4 |\n| 4160 | Marechal Rondon         | NA | 4 |\n| 4161 | Umutina                 | NA | 4 |\n| 4162 | Cana Brava/Guajajara    | NA | 4 |\n\n",
            "text/latex": "A tibble: 11 × 4\n\\begin{tabular}{llll}\n gid & loiname & codibge & loi\\\\\n <int> & <chr> & <int> & <dbl>\\\\\n\\hline\n\t 4152 & Arroio-Korá             & NA & 4\\\\\n\t 4153 & Estivadinho             & NA & 4\\\\\n\t 4154 & Nossa Senhora de Fátima & NA & 4\\\\\n\t 4155 & Kanela                  & NA & 4\\\\\n\t 4156 & Utiariti                & NA & 4\\\\\n\t 4157 & Taunay/Ipegue           & NA & 4\\\\\n\t 4158 & Xacriabá                & NA & 4\\\\\n\t 4159 & Morro Branco            & NA & 4\\\\\n\t 4160 & Marechal Rondon         & NA & 4\\\\\n\t 4161 & Umutina                 & NA & 4\\\\\n\t 4162 & Cana Brava/Guajajara    & NA & 4\\\\\n\\end{tabular}\n",
            "text/plain": [
              "   gid  loiname                 codibge loi\n",
              "1  4152 Arroio-Korá             NA      4  \n",
              "2  4153 Estivadinho             NA      4  \n",
              "3  4154 Nossa Senhora de Fátima NA      4  \n",
              "4  4155 Kanela                  NA      4  \n",
              "5  4156 Utiariti                NA      4  \n",
              "6  4157 Taunay/Ipegue           NA      4  \n",
              "7  4158 Xacriabá                NA      4  \n",
              "8  4159 Morro Branco            NA      4  \n",
              "9  4160 Marechal Rondon         NA      4  \n",
              "10 4161 Umutina                 NA      4  \n",
              "11 4162 Cana Brava/Guajajara    NA      4  "
            ]
          },
          "metadata": {}
        }
      ]
    },
    {
      "cell_type": "code",
      "source": [
        "loiUF = dplyr::filter(locals, grepl(\"uf\", name))$gid\n",
        "loinamesByLoi <- list_localOfInterestByLocal(apiPath, prodesCerrado, loiUF)\n",
        "loinamesByLoi"
      ],
      "metadata": {
        "colab": {
          "base_uri": "https://localhost:8080/",
          "height": 506
        },
        "id": "A6F01Rwjr5ef",
        "outputId": "3b11d913-9aca-409a-a4fa-53a143036479"
      },
      "execution_count": null,
      "outputs": [
        {
          "output_type": "display_data",
          "data": {
            "text/html": [
              "<table class=\"dataframe\">\n",
              "<caption>A tibble: 13 × 2</caption>\n",
              "<thead>\n",
              "\t<tr><th scope=col>gid</th><th scope=col>loiname</th></tr>\n",
              "\t<tr><th scope=col>&lt;int&gt;</th><th scope=col>&lt;chr&gt;</th></tr>\n",
              "</thead>\n",
              "<tbody>\n",
              "\t<tr><td>2665</td><td>Mato Grosso do Sul</td></tr>\n",
              "\t<tr><td>2666</td><td>Minas Gerais      </td></tr>\n",
              "\t<tr><td>2667</td><td>Rondônia          </td></tr>\n",
              "\t<tr><td>2668</td><td>Piauí             </td></tr>\n",
              "\t<tr><td>2669</td><td>Tocantins         </td></tr>\n",
              "\t<tr><td>2670</td><td>Mato Grosso       </td></tr>\n",
              "\t<tr><td>2671</td><td>Paraná            </td></tr>\n",
              "\t<tr><td>2672</td><td>Pará              </td></tr>\n",
              "\t<tr><td>2673</td><td>Goiás             </td></tr>\n",
              "\t<tr><td>2674</td><td>Bahia             </td></tr>\n",
              "\t<tr><td>2675</td><td>Maranhão          </td></tr>\n",
              "\t<tr><td>2676</td><td>São Paulo         </td></tr>\n",
              "\t<tr><td>2677</td><td>Distrito Federal  </td></tr>\n",
              "</tbody>\n",
              "</table>\n"
            ],
            "text/markdown": "\nA tibble: 13 × 2\n\n| gid &lt;int&gt; | loiname &lt;chr&gt; |\n|---|---|\n| 2665 | Mato Grosso do Sul |\n| 2666 | Minas Gerais       |\n| 2667 | Rondônia           |\n| 2668 | Piauí              |\n| 2669 | Tocantins          |\n| 2670 | Mato Grosso        |\n| 2671 | Paraná             |\n| 2672 | Pará               |\n| 2673 | Goiás              |\n| 2674 | Bahia              |\n| 2675 | Maranhão           |\n| 2676 | São Paulo          |\n| 2677 | Distrito Federal   |\n\n",
            "text/latex": "A tibble: 13 × 2\n\\begin{tabular}{ll}\n gid & loiname\\\\\n <int> & <chr>\\\\\n\\hline\n\t 2665 & Mato Grosso do Sul\\\\\n\t 2666 & Minas Gerais      \\\\\n\t 2667 & Rondônia          \\\\\n\t 2668 & Piauí             \\\\\n\t 2669 & Tocantins         \\\\\n\t 2670 & Mato Grosso       \\\\\n\t 2671 & Paraná            \\\\\n\t 2672 & Pará              \\\\\n\t 2673 & Goiás             \\\\\n\t 2674 & Bahia             \\\\\n\t 2675 & Maranhão          \\\\\n\t 2676 & São Paulo         \\\\\n\t 2677 & Distrito Federal  \\\\\n\\end{tabular}\n",
            "text/plain": [
              "   gid  loiname           \n",
              "1  2665 Mato Grosso do Sul\n",
              "2  2666 Minas Gerais      \n",
              "3  2667 Rondônia          \n",
              "4  2668 Piauí             \n",
              "5  2669 Tocantins         \n",
              "6  2670 Mato Grosso       \n",
              "7  2671 Paraná            \n",
              "8  2672 Pará              \n",
              "9  2673 Goiás             \n",
              "10 2674 Bahia             \n",
              "11 2675 Maranhão          \n",
              "12 2676 São Paulo         \n",
              "13 2677 Distrito Federal  "
            ]
          },
          "metadata": {}
        }
      ]
    },
    {
      "cell_type": "code",
      "source": [
        "filters <- list_filters(apiPath, prodesCerrado)\n",
        "filters"
      ],
      "metadata": {
        "colab": {
          "base_uri": "https://localhost:8080/",
          "height": 129
        },
        "id": "DIljik_Wr8VB",
        "outputId": "b2286fc9-5c1f-414b-aecd-d1376d386a38"
      },
      "execution_count": null,
      "outputs": [
        {
          "output_type": "display_data",
          "data": {
            "text/html": [
              "<table class=\"dataframe\">\n",
              "<caption>A tibble: 1 × 2</caption>\n",
              "<thead>\n",
              "\t<tr><th scope=col>id</th><th scope=col>type</th></tr>\n",
              "\t<tr><th scope=col>&lt;int&gt;</th><th scope=col>&lt;chr&gt;</th></tr>\n",
              "</thead>\n",
              "<tbody>\n",
              "\t<tr><td>1</td><td>fid_area &gt;= 0.01</td></tr>\n",
              "</tbody>\n",
              "</table>\n"
            ],
            "text/markdown": "\nA tibble: 1 × 2\n\n| id &lt;int&gt; | type &lt;chr&gt; |\n|---|---|\n| 1 | fid_area &gt;= 0.01 |\n\n",
            "text/latex": "A tibble: 1 × 2\n\\begin{tabular}{ll}\n id & type\\\\\n <int> & <chr>\\\\\n\\hline\n\t 1 & fid\\_area >= 0.01\\\\\n\\end{tabular}\n",
            "text/plain": [
              "  id type            \n",
              "1 1  fid_area >= 0.01"
            ]
          },
          "metadata": {}
        }
      ]
    },
    {
      "cell_type": "code",
      "source": [
        "data <- get_dataByLocalOfInterest(apiPath,\n",
        "                                  prodesCerrado,\n",
        "                                  classes$name,\n",
        "                                  loinamesByLoi[1,]$gid)\n",
        "\n",
        "data"
      ],
      "metadata": {
        "colab": {
          "base_uri": "https://localhost:8080/",
          "height": 1000
        },
        "id": "79XeMtpwr_4y",
        "outputId": "ba3f3cf7-9d41-47ab-e5da-e9eca9f69a43"
      },
      "execution_count": null,
      "outputs": [
        {
          "output_type": "stream",
          "name": "stderr",
          "text": [
            "Warning message:\n",
            "“\u001b[1m\u001b[22m`cols` is now required when using `unnest()`.\n",
            "\u001b[36mℹ\u001b[39m Please use `cols = c(areas)`.”\n",
            "\u001b[1m\u001b[22mNew names:\n",
            "\u001b[36m•\u001b[39m `loi` -> `loi...1`\n",
            "\u001b[36m•\u001b[39m `loiname` -> `loiname...2`\n",
            "\u001b[36m•\u001b[39m `areas` -> `areas...3`\n",
            "\u001b[36m•\u001b[39m `loi` -> `loi...4`\n",
            "\u001b[36m•\u001b[39m `loiname` -> `loiname...5`\n",
            "\u001b[36m•\u001b[39m `areas` -> `areas...6`\n",
            "\u001b[36m•\u001b[39m `loi` -> `loi...7`\n",
            "\u001b[36m•\u001b[39m `loiname` -> `loiname...8`\n",
            "\u001b[36m•\u001b[39m `areas` -> `areas...9`\n",
            "\u001b[36m•\u001b[39m `loi` -> `loi...10`\n",
            "\u001b[36m•\u001b[39m `loiname` -> `loiname...11`\n",
            "\u001b[36m•\u001b[39m `areas` -> `areas...12`\n",
            "\u001b[36m•\u001b[39m `loi` -> `loi...13`\n",
            "\u001b[36m•\u001b[39m `loiname` -> `loiname...14`\n",
            "\u001b[36m•\u001b[39m `areas` -> `areas...15`\n",
            "\u001b[36m•\u001b[39m `loi` -> `loi...16`\n",
            "\u001b[36m•\u001b[39m `loiname` -> `loiname...17`\n",
            "\u001b[36m•\u001b[39m `areas` -> `areas...18`\n",
            "\u001b[36m•\u001b[39m `loi` -> `loi...19`\n",
            "\u001b[36m•\u001b[39m `loiname` -> `loiname...20`\n",
            "\u001b[36m•\u001b[39m `areas` -> `areas...21`\n",
            "\u001b[36m•\u001b[39m `loi` -> `loi...22`\n",
            "\u001b[36m•\u001b[39m `loiname` -> `loiname...23`\n",
            "\u001b[36m•\u001b[39m `areas` -> `areas...24`\n",
            "\u001b[36m•\u001b[39m `loi` -> `loi...25`\n",
            "\u001b[36m•\u001b[39m `loiname` -> `loiname...26`\n",
            "\u001b[36m•\u001b[39m `areas` -> `areas...27`\n",
            "\u001b[36m•\u001b[39m `loi` -> `loi...28`\n",
            "\u001b[36m•\u001b[39m `loiname` -> `loiname...29`\n",
            "\u001b[36m•\u001b[39m `areas` -> `areas...30`\n",
            "\u001b[36m•\u001b[39m `loi` -> `loi...31`\n",
            "\u001b[36m•\u001b[39m `loiname` -> `loiname...32`\n",
            "\u001b[36m•\u001b[39m `areas` -> `areas...33`\n",
            "\u001b[36m•\u001b[39m `loi` -> `loi...34`\n",
            "\u001b[36m•\u001b[39m `loiname` -> `loiname...35`\n",
            "\u001b[36m•\u001b[39m `areas` -> `areas...36`\n",
            "\u001b[36m•\u001b[39m `loi` -> `loi...37`\n",
            "\u001b[36m•\u001b[39m `loiname` -> `loiname...38`\n",
            "\u001b[36m•\u001b[39m `areas` -> `areas...39`\n",
            "\u001b[36m•\u001b[39m `loi` -> `loi...40`\n",
            "\u001b[36m•\u001b[39m `loiname` -> `loiname...41`\n",
            "\u001b[36m•\u001b[39m `areas` -> `areas...42`\n",
            "\u001b[36m•\u001b[39m `loi` -> `loi...43`\n",
            "\u001b[36m•\u001b[39m `loiname` -> `loiname...44`\n",
            "\u001b[36m•\u001b[39m `areas` -> `areas...45`\n",
            "\u001b[36m•\u001b[39m `loi` -> `loi...46`\n",
            "\u001b[36m•\u001b[39m `loiname` -> `loiname...47`\n",
            "\u001b[36m•\u001b[39m `areas` -> `areas...48`\n",
            "\u001b[36m•\u001b[39m `loi` -> `loi...49`\n",
            "\u001b[36m•\u001b[39m `loiname` -> `loiname...50`\n",
            "\u001b[36m•\u001b[39m `areas` -> `areas...51`\n"
          ]
        },
        {
          "output_type": "display_data",
          "data": {
            "text/html": [
              "<table class=\"dataframe\">\n",
              "<caption>A data.frame: 17 × 12</caption>\n",
              "<thead>\n",
              "\t<tr><th scope=col>name</th><th scope=col>clazz</th><th scope=col>startDate.year</th><th scope=col>startDate.month</th><th scope=col>startDate.day</th><th scope=col>endDate.year</th><th scope=col>endDate.month</th><th scope=col>endDate.day</th><th scope=col>loi</th><th scope=col>loiname</th><th scope=col>type</th><th scope=col>area</th></tr>\n",
              "\t<tr><th scope=col>&lt;chr&gt;</th><th scope=col>&lt;chr&gt;</th><th scope=col>&lt;int&gt;</th><th scope=col>&lt;int&gt;</th><th scope=col>&lt;int&gt;</th><th scope=col>&lt;int&gt;</th><th scope=col>&lt;int&gt;</th><th scope=col>&lt;int&gt;</th><th scope=col>&lt;int&gt;</th><th scope=col>&lt;int&gt;</th><th scope=col>&lt;int&gt;</th><th scope=col>&lt;dbl&gt;</th></tr>\n",
              "</thead>\n",
              "<tbody>\n",
              "\t<tr><td>PRODES CERRADO</td><td>deforestation</td><td>1500</td><td>8</td><td>10</td><td>2000</td><td>7</td><td>31</td><td>1</td><td>2665</td><td>1</td><td>148558.9206</td></tr>\n",
              "\t<tr><td>PRODES CERRADO</td><td>deforestation</td><td>2000</td><td>8</td><td> 1</td><td>2002</td><td>7</td><td>31</td><td>1</td><td>2665</td><td>1</td><td>  5427.5758</td></tr>\n",
              "\t<tr><td>PRODES CERRADO</td><td>deforestation</td><td>2002</td><td>8</td><td> 1</td><td>2004</td><td>7</td><td>31</td><td>1</td><td>2665</td><td>1</td><td>  4599.3707</td></tr>\n",
              "\t<tr><td>PRODES CERRADO</td><td>deforestation</td><td>2004</td><td>8</td><td> 1</td><td>2006</td><td>7</td><td>31</td><td>1</td><td>2665</td><td>1</td><td>  3019.6246</td></tr>\n",
              "\t<tr><td>PRODES CERRADO</td><td>deforestation</td><td>2006</td><td>8</td><td> 1</td><td>2008</td><td>7</td><td>31</td><td>1</td><td>2665</td><td>1</td><td>  1540.7878</td></tr>\n",
              "\t<tr><td>PRODES CERRADO</td><td>deforestation</td><td>2008</td><td>8</td><td> 1</td><td>2010</td><td>7</td><td>31</td><td>1</td><td>2665</td><td>1</td><td>   956.4372</td></tr>\n",
              "\t<tr><td>PRODES CERRADO</td><td>deforestation</td><td>2010</td><td>8</td><td> 1</td><td>2012</td><td>7</td><td>31</td><td>1</td><td>2665</td><td>1</td><td>   703.9115</td></tr>\n",
              "\t<tr><td>PRODES CERRADO</td><td>deforestation</td><td>2012</td><td>8</td><td> 1</td><td>2013</td><td>7</td><td>31</td><td>1</td><td>2665</td><td>1</td><td>   480.2274</td></tr>\n",
              "\t<tr><td>PRODES CERRADO</td><td>deforestation</td><td>2013</td><td>8</td><td> 1</td><td>2014</td><td>7</td><td>31</td><td>1</td><td>2665</td><td>1</td><td>   272.5329</td></tr>\n",
              "\t<tr><td>PRODES CERRADO</td><td>deforestation</td><td>2014</td><td>8</td><td> 1</td><td>2015</td><td>7</td><td>31</td><td>1</td><td>2665</td><td>1</td><td>   586.6171</td></tr>\n",
              "\t<tr><td>PRODES CERRADO</td><td>deforestation</td><td>2015</td><td>8</td><td> 1</td><td>2016</td><td>7</td><td>31</td><td>1</td><td>2665</td><td>1</td><td>   319.6654</td></tr>\n",
              "\t<tr><td>PRODES CERRADO</td><td>deforestation</td><td>2016</td><td>8</td><td> 1</td><td>2017</td><td>7</td><td>31</td><td>1</td><td>2665</td><td>1</td><td>   265.0199</td></tr>\n",
              "\t<tr><td>PRODES CERRADO</td><td>deforestation</td><td>2017</td><td>8</td><td> 1</td><td>2018</td><td>7</td><td>31</td><td>1</td><td>2665</td><td>1</td><td>   258.6662</td></tr>\n",
              "\t<tr><td>PRODES CERRADO</td><td>deforestation</td><td>2018</td><td>8</td><td> 1</td><td>2019</td><td>7</td><td>31</td><td>1</td><td>2665</td><td>1</td><td>   256.3929</td></tr>\n",
              "\t<tr><td>PRODES CERRADO</td><td>deforestation</td><td>2019</td><td>8</td><td> 1</td><td>2020</td><td>7</td><td>31</td><td>1</td><td>2665</td><td>1</td><td>   299.3441</td></tr>\n",
              "\t<tr><td>PRODES CERRADO</td><td>deforestation</td><td>2020</td><td>8</td><td> 1</td><td>2021</td><td>7</td><td>31</td><td>1</td><td>2665</td><td>1</td><td>   287.6520</td></tr>\n",
              "\t<tr><td>PRODES CERRADO</td><td>deforestation</td><td>2021</td><td>8</td><td> 1</td><td>2022</td><td>7</td><td>31</td><td>1</td><td>2665</td><td>1</td><td>   315.0178</td></tr>\n",
              "</tbody>\n",
              "</table>\n"
            ],
            "text/markdown": "\nA data.frame: 17 × 12\n\n| name &lt;chr&gt; | clazz &lt;chr&gt; | startDate.year &lt;int&gt; | startDate.month &lt;int&gt; | startDate.day &lt;int&gt; | endDate.year &lt;int&gt; | endDate.month &lt;int&gt; | endDate.day &lt;int&gt; | loi &lt;int&gt; | loiname &lt;int&gt; | type &lt;int&gt; | area &lt;dbl&gt; |\n|---|---|---|---|---|---|---|---|---|---|---|---|\n| PRODES CERRADO | deforestation | 1500 | 8 | 10 | 2000 | 7 | 31 | 1 | 2665 | 1 | 148558.9206 |\n| PRODES CERRADO | deforestation | 2000 | 8 |  1 | 2002 | 7 | 31 | 1 | 2665 | 1 |   5427.5758 |\n| PRODES CERRADO | deforestation | 2002 | 8 |  1 | 2004 | 7 | 31 | 1 | 2665 | 1 |   4599.3707 |\n| PRODES CERRADO | deforestation | 2004 | 8 |  1 | 2006 | 7 | 31 | 1 | 2665 | 1 |   3019.6246 |\n| PRODES CERRADO | deforestation | 2006 | 8 |  1 | 2008 | 7 | 31 | 1 | 2665 | 1 |   1540.7878 |\n| PRODES CERRADO | deforestation | 2008 | 8 |  1 | 2010 | 7 | 31 | 1 | 2665 | 1 |    956.4372 |\n| PRODES CERRADO | deforestation | 2010 | 8 |  1 | 2012 | 7 | 31 | 1 | 2665 | 1 |    703.9115 |\n| PRODES CERRADO | deforestation | 2012 | 8 |  1 | 2013 | 7 | 31 | 1 | 2665 | 1 |    480.2274 |\n| PRODES CERRADO | deforestation | 2013 | 8 |  1 | 2014 | 7 | 31 | 1 | 2665 | 1 |    272.5329 |\n| PRODES CERRADO | deforestation | 2014 | 8 |  1 | 2015 | 7 | 31 | 1 | 2665 | 1 |    586.6171 |\n| PRODES CERRADO | deforestation | 2015 | 8 |  1 | 2016 | 7 | 31 | 1 | 2665 | 1 |    319.6654 |\n| PRODES CERRADO | deforestation | 2016 | 8 |  1 | 2017 | 7 | 31 | 1 | 2665 | 1 |    265.0199 |\n| PRODES CERRADO | deforestation | 2017 | 8 |  1 | 2018 | 7 | 31 | 1 | 2665 | 1 |    258.6662 |\n| PRODES CERRADO | deforestation | 2018 | 8 |  1 | 2019 | 7 | 31 | 1 | 2665 | 1 |    256.3929 |\n| PRODES CERRADO | deforestation | 2019 | 8 |  1 | 2020 | 7 | 31 | 1 | 2665 | 1 |    299.3441 |\n| PRODES CERRADO | deforestation | 2020 | 8 |  1 | 2021 | 7 | 31 | 1 | 2665 | 1 |    287.6520 |\n| PRODES CERRADO | deforestation | 2021 | 8 |  1 | 2022 | 7 | 31 | 1 | 2665 | 1 |    315.0178 |\n\n",
            "text/latex": "A data.frame: 17 × 12\n\\begin{tabular}{llllllllllll}\n name & clazz & startDate.year & startDate.month & startDate.day & endDate.year & endDate.month & endDate.day & loi & loiname & type & area\\\\\n <chr> & <chr> & <int> & <int> & <int> & <int> & <int> & <int> & <int> & <int> & <int> & <dbl>\\\\\n\\hline\n\t PRODES CERRADO & deforestation & 1500 & 8 & 10 & 2000 & 7 & 31 & 1 & 2665 & 1 & 148558.9206\\\\\n\t PRODES CERRADO & deforestation & 2000 & 8 &  1 & 2002 & 7 & 31 & 1 & 2665 & 1 &   5427.5758\\\\\n\t PRODES CERRADO & deforestation & 2002 & 8 &  1 & 2004 & 7 & 31 & 1 & 2665 & 1 &   4599.3707\\\\\n\t PRODES CERRADO & deforestation & 2004 & 8 &  1 & 2006 & 7 & 31 & 1 & 2665 & 1 &   3019.6246\\\\\n\t PRODES CERRADO & deforestation & 2006 & 8 &  1 & 2008 & 7 & 31 & 1 & 2665 & 1 &   1540.7878\\\\\n\t PRODES CERRADO & deforestation & 2008 & 8 &  1 & 2010 & 7 & 31 & 1 & 2665 & 1 &    956.4372\\\\\n\t PRODES CERRADO & deforestation & 2010 & 8 &  1 & 2012 & 7 & 31 & 1 & 2665 & 1 &    703.9115\\\\\n\t PRODES CERRADO & deforestation & 2012 & 8 &  1 & 2013 & 7 & 31 & 1 & 2665 & 1 &    480.2274\\\\\n\t PRODES CERRADO & deforestation & 2013 & 8 &  1 & 2014 & 7 & 31 & 1 & 2665 & 1 &    272.5329\\\\\n\t PRODES CERRADO & deforestation & 2014 & 8 &  1 & 2015 & 7 & 31 & 1 & 2665 & 1 &    586.6171\\\\\n\t PRODES CERRADO & deforestation & 2015 & 8 &  1 & 2016 & 7 & 31 & 1 & 2665 & 1 &    319.6654\\\\\n\t PRODES CERRADO & deforestation & 2016 & 8 &  1 & 2017 & 7 & 31 & 1 & 2665 & 1 &    265.0199\\\\\n\t PRODES CERRADO & deforestation & 2017 & 8 &  1 & 2018 & 7 & 31 & 1 & 2665 & 1 &    258.6662\\\\\n\t PRODES CERRADO & deforestation & 2018 & 8 &  1 & 2019 & 7 & 31 & 1 & 2665 & 1 &    256.3929\\\\\n\t PRODES CERRADO & deforestation & 2019 & 8 &  1 & 2020 & 7 & 31 & 1 & 2665 & 1 &    299.3441\\\\\n\t PRODES CERRADO & deforestation & 2020 & 8 &  1 & 2021 & 7 & 31 & 1 & 2665 & 1 &    287.6520\\\\\n\t PRODES CERRADO & deforestation & 2021 & 8 &  1 & 2022 & 7 & 31 & 1 & 2665 & 1 &    315.0178\\\\\n\\end{tabular}\n",
            "text/plain": [
              "   name           clazz         startDate.year startDate.month startDate.day\n",
              "1  PRODES CERRADO deforestation 1500           8               10           \n",
              "2  PRODES CERRADO deforestation 2000           8                1           \n",
              "3  PRODES CERRADO deforestation 2002           8                1           \n",
              "4  PRODES CERRADO deforestation 2004           8                1           \n",
              "5  PRODES CERRADO deforestation 2006           8                1           \n",
              "6  PRODES CERRADO deforestation 2008           8                1           \n",
              "7  PRODES CERRADO deforestation 2010           8                1           \n",
              "8  PRODES CERRADO deforestation 2012           8                1           \n",
              "9  PRODES CERRADO deforestation 2013           8                1           \n",
              "10 PRODES CERRADO deforestation 2014           8                1           \n",
              "11 PRODES CERRADO deforestation 2015           8                1           \n",
              "12 PRODES CERRADO deforestation 2016           8                1           \n",
              "13 PRODES CERRADO deforestation 2017           8                1           \n",
              "14 PRODES CERRADO deforestation 2018           8                1           \n",
              "15 PRODES CERRADO deforestation 2019           8                1           \n",
              "16 PRODES CERRADO deforestation 2020           8                1           \n",
              "17 PRODES CERRADO deforestation 2021           8                1           \n",
              "   endDate.year endDate.month endDate.day loi loiname type area       \n",
              "1  2000         7             31          1   2665    1    148558.9206\n",
              "2  2002         7             31          1   2665    1      5427.5758\n",
              "3  2004         7             31          1   2665    1      4599.3707\n",
              "4  2006         7             31          1   2665    1      3019.6246\n",
              "5  2008         7             31          1   2665    1      1540.7878\n",
              "6  2010         7             31          1   2665    1       956.4372\n",
              "7  2012         7             31          1   2665    1       703.9115\n",
              "8  2013         7             31          1   2665    1       480.2274\n",
              "9  2014         7             31          1   2665    1       272.5329\n",
              "10 2015         7             31          1   2665    1       586.6171\n",
              "11 2016         7             31          1   2665    1       319.6654\n",
              "12 2017         7             31          1   2665    1       265.0199\n",
              "13 2018         7             31          1   2665    1       258.6662\n",
              "14 2019         7             31          1   2665    1       256.3929\n",
              "15 2020         7             31          1   2665    1       299.3441\n",
              "16 2021         7             31          1   2665    1       287.6520\n",
              "17 2022         7             31          1   2665    1       315.0178"
            ]
          },
          "metadata": {}
        }
      ]
    },
    {
      "cell_type": "code",
      "source": [
        "data <- get_dataByParameters(apiPath,\n",
        "                            prodesCerrado,\n",
        "                            classes$name,\n",
        "                            loinamesByLoi[1,]$gid,\n",
        "                            \"2015-01-01\",\n",
        "                            \"2021-01-01\")\n",
        "\n",
        "data"
      ],
      "metadata": {
        "colab": {
          "base_uri": "https://localhost:8080/",
          "height": 594
        },
        "id": "TbHr1sWQsEBJ",
        "outputId": "8f29f421-4a17-4854-b0e5-876f092e1fde"
      },
      "execution_count": null,
      "outputs": [
        {
          "output_type": "stream",
          "name": "stderr",
          "text": [
            "Warning message:\n",
            "“\u001b[1m\u001b[22m`cols` is now required when using `unnest()`.\n",
            "\u001b[36mℹ\u001b[39m Please use `cols = c(areas)`.”\n",
            "\u001b[1m\u001b[22mNew names:\n",
            "\u001b[36m•\u001b[39m `loi` -> `loi...1`\n",
            "\u001b[36m•\u001b[39m `loiname` -> `loiname...2`\n",
            "\u001b[36m•\u001b[39m `areas` -> `areas...3`\n",
            "\u001b[36m•\u001b[39m `loi` -> `loi...4`\n",
            "\u001b[36m•\u001b[39m `loiname` -> `loiname...5`\n",
            "\u001b[36m•\u001b[39m `areas` -> `areas...6`\n",
            "\u001b[36m•\u001b[39m `loi` -> `loi...7`\n",
            "\u001b[36m•\u001b[39m `loiname` -> `loiname...8`\n",
            "\u001b[36m•\u001b[39m `areas` -> `areas...9`\n",
            "\u001b[36m•\u001b[39m `loi` -> `loi...10`\n",
            "\u001b[36m•\u001b[39m `loiname` -> `loiname...11`\n",
            "\u001b[36m•\u001b[39m `areas` -> `areas...12`\n",
            "\u001b[36m•\u001b[39m `loi` -> `loi...13`\n",
            "\u001b[36m•\u001b[39m `loiname` -> `loiname...14`\n",
            "\u001b[36m•\u001b[39m `areas` -> `areas...15`\n"
          ]
        },
        {
          "output_type": "display_data",
          "data": {
            "text/html": [
              "<table class=\"dataframe\">\n",
              "<caption>A data.frame: 5 × 12</caption>\n",
              "<thead>\n",
              "\t<tr><th scope=col>name</th><th scope=col>clazz</th><th scope=col>startDate.year</th><th scope=col>startDate.month</th><th scope=col>startDate.day</th><th scope=col>endDate.year</th><th scope=col>endDate.month</th><th scope=col>endDate.day</th><th scope=col>loi</th><th scope=col>loiname</th><th scope=col>type</th><th scope=col>area</th></tr>\n",
              "\t<tr><th scope=col>&lt;chr&gt;</th><th scope=col>&lt;chr&gt;</th><th scope=col>&lt;int&gt;</th><th scope=col>&lt;int&gt;</th><th scope=col>&lt;int&gt;</th><th scope=col>&lt;int&gt;</th><th scope=col>&lt;int&gt;</th><th scope=col>&lt;int&gt;</th><th scope=col>&lt;int&gt;</th><th scope=col>&lt;int&gt;</th><th scope=col>&lt;int&gt;</th><th scope=col>&lt;dbl&gt;</th></tr>\n",
              "</thead>\n",
              "<tbody>\n",
              "\t<tr><td>PRODES CERRADO</td><td>deforestation</td><td>2015</td><td>8</td><td>1</td><td>2016</td><td>7</td><td>31</td><td>1</td><td>2665</td><td>1</td><td>319.6654</td></tr>\n",
              "\t<tr><td>PRODES CERRADO</td><td>deforestation</td><td>2016</td><td>8</td><td>1</td><td>2017</td><td>7</td><td>31</td><td>1</td><td>2665</td><td>1</td><td>265.0199</td></tr>\n",
              "\t<tr><td>PRODES CERRADO</td><td>deforestation</td><td>2017</td><td>8</td><td>1</td><td>2018</td><td>7</td><td>31</td><td>1</td><td>2665</td><td>1</td><td>258.6662</td></tr>\n",
              "\t<tr><td>PRODES CERRADO</td><td>deforestation</td><td>2018</td><td>8</td><td>1</td><td>2019</td><td>7</td><td>31</td><td>1</td><td>2665</td><td>1</td><td>256.3929</td></tr>\n",
              "\t<tr><td>PRODES CERRADO</td><td>deforestation</td><td>2019</td><td>8</td><td>1</td><td>2020</td><td>7</td><td>31</td><td>1</td><td>2665</td><td>1</td><td>299.3441</td></tr>\n",
              "</tbody>\n",
              "</table>\n"
            ],
            "text/markdown": "\nA data.frame: 5 × 12\n\n| name &lt;chr&gt; | clazz &lt;chr&gt; | startDate.year &lt;int&gt; | startDate.month &lt;int&gt; | startDate.day &lt;int&gt; | endDate.year &lt;int&gt; | endDate.month &lt;int&gt; | endDate.day &lt;int&gt; | loi &lt;int&gt; | loiname &lt;int&gt; | type &lt;int&gt; | area &lt;dbl&gt; |\n|---|---|---|---|---|---|---|---|---|---|---|---|\n| PRODES CERRADO | deforestation | 2015 | 8 | 1 | 2016 | 7 | 31 | 1 | 2665 | 1 | 319.6654 |\n| PRODES CERRADO | deforestation | 2016 | 8 | 1 | 2017 | 7 | 31 | 1 | 2665 | 1 | 265.0199 |\n| PRODES CERRADO | deforestation | 2017 | 8 | 1 | 2018 | 7 | 31 | 1 | 2665 | 1 | 258.6662 |\n| PRODES CERRADO | deforestation | 2018 | 8 | 1 | 2019 | 7 | 31 | 1 | 2665 | 1 | 256.3929 |\n| PRODES CERRADO | deforestation | 2019 | 8 | 1 | 2020 | 7 | 31 | 1 | 2665 | 1 | 299.3441 |\n\n",
            "text/latex": "A data.frame: 5 × 12\n\\begin{tabular}{llllllllllll}\n name & clazz & startDate.year & startDate.month & startDate.day & endDate.year & endDate.month & endDate.day & loi & loiname & type & area\\\\\n <chr> & <chr> & <int> & <int> & <int> & <int> & <int> & <int> & <int> & <int> & <int> & <dbl>\\\\\n\\hline\n\t PRODES CERRADO & deforestation & 2015 & 8 & 1 & 2016 & 7 & 31 & 1 & 2665 & 1 & 319.6654\\\\\n\t PRODES CERRADO & deforestation & 2016 & 8 & 1 & 2017 & 7 & 31 & 1 & 2665 & 1 & 265.0199\\\\\n\t PRODES CERRADO & deforestation & 2017 & 8 & 1 & 2018 & 7 & 31 & 1 & 2665 & 1 & 258.6662\\\\\n\t PRODES CERRADO & deforestation & 2018 & 8 & 1 & 2019 & 7 & 31 & 1 & 2665 & 1 & 256.3929\\\\\n\t PRODES CERRADO & deforestation & 2019 & 8 & 1 & 2020 & 7 & 31 & 1 & 2665 & 1 & 299.3441\\\\\n\\end{tabular}\n",
            "text/plain": [
              "  name           clazz         startDate.year startDate.month startDate.day\n",
              "1 PRODES CERRADO deforestation 2015           8               1            \n",
              "2 PRODES CERRADO deforestation 2016           8               1            \n",
              "3 PRODES CERRADO deforestation 2017           8               1            \n",
              "4 PRODES CERRADO deforestation 2018           8               1            \n",
              "5 PRODES CERRADO deforestation 2019           8               1            \n",
              "  endDate.year endDate.month endDate.day loi loiname type area    \n",
              "1 2016         7             31          1   2665    1    319.6654\n",
              "2 2017         7             31          1   2665    1    265.0199\n",
              "3 2018         7             31          1   2665    1    258.6662\n",
              "4 2019         7             31          1   2665    1    256.3929\n",
              "5 2020         7             31          1   2665    1    299.3441"
            ]
          },
          "metadata": {}
        }
      ]
    },
    {
      "cell_type": "code",
      "source": [
        "data <- get_dataByParameters(apiPath, prodesCerrado, classes$name, loinamesByLoi[10,]$gid, \"2015-01-01\", \"2020-12-31\") %>%\n",
        "  dplyr::filter(.,type==2) %>%\n",
        "  dplyr::filter(.,endDate.year!=2000) %>%\n",
        "  dplyr::select(name, clazz, startDate.year, endDate.year, area)\n",
        "\n",
        "data"
      ],
      "metadata": {
        "id": "bjrTTBhSsJiT"
      },
      "execution_count": null,
      "outputs": []
    },
    {
      "cell_type": "code",
      "source": [
        "library(ggplot2)\n",
        "\n",
        "ggplot(data, aes(x=as.factor(endDate.year), y=area, fill=clazz)) +\n",
        "  geom_text(aes(label=as.numeric(round(data$area, 2))), vjust=-0.5, hjust=0.3, size = 4) +\n",
        "  geom_bar(stat = \"identity\", width = 0.8, fill = \"#008080\") +\n",
        "  scale_x_discrete(\"Year\", labels = as.character(data$endDate.year), breaks = data$endDate.year) +\n",
        "  theme(axis.text.x = element_text(angle = 45, vjust = 0.5)) +\n",
        "  labs(colour = \"Date\") + labs(x = \"Years\") + labs(y = \"Areas (km²)\") +\n",
        "  labs(title = loinamesByLoi[10,]$loiname) + labs(fill = \"class\")"
      ],
      "metadata": {
        "id": "n7wVbLQnscVJ"
      },
      "execution_count": null,
      "outputs": []
    }
  ]
}